{
 "cells": [
  {
   "cell_type": "code",
   "execution_count": 2,
   "metadata": {
    "collapsed": true,
    "deletable": true,
    "editable": true
   },
   "outputs": [],
   "source": [
    "# could also use to find the most common words used for each listing "
   ]
  },
  {
   "cell_type": "code",
   "execution_count": 3,
   "metadata": {
    "collapsed": true,
    "deletable": true,
    "editable": true
   },
   "outputs": [],
   "source": [
    "# https://www.dataquest.io/blog/web-scraping-tutorial-python/"
   ]
  },
  {
   "cell_type": "code",
   "execution_count": 4,
   "metadata": {
    "collapsed": true,
    "deletable": true,
    "editable": true
   },
   "outputs": [],
   "source": [
    "# https://stackoverflow.com/questions/8897593/similarity-between-two-text-documents\n",
    "# https://www.oreilly.com/learning/how-do-i-compare-document-similarity-using-python\n",
    "# https://sites.temple.edu/tudsc/2017/03/30/measuring-similarity-between-texts-in-python/\n",
    "# http://www.cs.duke.edu/courses/spring14/compsci290/assignments/lab02.html"
   ]
  },
  {
   "cell_type": "code",
   "execution_count": 5,
   "metadata": {
    "collapsed": false,
    "deletable": true,
    "editable": true
   },
   "outputs": [],
   "source": [
    "import pandas as pd\n",
    "import urllib\n",
    "import requests\n",
    "from bs4 import BeautifulSoup"
   ]
  },
  {
   "cell_type": "code",
   "execution_count": 6,
   "metadata": {
    "collapsed": true,
    "deletable": true,
    "editable": true
   },
   "outputs": [],
   "source": [
    "# create list of links\n",
    "pages = []\n",
    "pages.append(\"https://www.ziprecruiter.com/candidate/search?search=data+analyst&location=los+angeles+ca\")\n",
    "\n",
    "for i in range(9):\n",
    "    page= \"https://www.ziprecruiter.com/candidate/search?page=\"+str(i+2)+\"&location=los+angeles+ca&search=data+analyst\"\n",
    "    pages.append(page)"
   ]
  },
  {
   "cell_type": "code",
   "execution_count": 7,
   "metadata": {
    "collapsed": false,
    "deletable": true,
    "editable": true
   },
   "outputs": [
    {
     "data": {
      "text/plain": [
       "['https://www.ziprecruiter.com/candidate/search?search=data+analyst&location=los+angeles+ca',\n",
       " 'https://www.ziprecruiter.com/candidate/search?page=2&location=los+angeles+ca&search=data+analyst',\n",
       " 'https://www.ziprecruiter.com/candidate/search?page=3&location=los+angeles+ca&search=data+analyst',\n",
       " 'https://www.ziprecruiter.com/candidate/search?page=4&location=los+angeles+ca&search=data+analyst',\n",
       " 'https://www.ziprecruiter.com/candidate/search?page=5&location=los+angeles+ca&search=data+analyst',\n",
       " 'https://www.ziprecruiter.com/candidate/search?page=6&location=los+angeles+ca&search=data+analyst',\n",
       " 'https://www.ziprecruiter.com/candidate/search?page=7&location=los+angeles+ca&search=data+analyst',\n",
       " 'https://www.ziprecruiter.com/candidate/search?page=8&location=los+angeles+ca&search=data+analyst',\n",
       " 'https://www.ziprecruiter.com/candidate/search?page=9&location=los+angeles+ca&search=data+analyst',\n",
       " 'https://www.ziprecruiter.com/candidate/search?page=10&location=los+angeles+ca&search=data+analyst']"
      ]
     },
     "execution_count": 7,
     "metadata": {},
     "output_type": "execute_result"
    }
   ],
   "source": [
    "pages"
   ]
  },
  {
   "cell_type": "code",
   "execution_count": null,
   "metadata": {
    "collapsed": false,
    "deletable": true,
    "editable": true
   },
   "outputs": [],
   "source": [
    "# goes through each page and grabs the link to the company pages\n",
    "links = []\n",
    "for p in pages:\n",
    "    r = requests.get(p)\n",
    "    soup = BeautifulSoup(r.content,'html.parser')\n",
    "    link = soup.find_all(class_=\"job_snippet\")\n",
    "    for i in range(len(link)):\n",
    "        links.append(link[i].find('a')['href'])"
   ]
  },
  {
   "cell_type": "code",
   "execution_count": null,
   "metadata": {
    "collapsed": false,
    "deletable": true,
    "editable": true
   },
   "outputs": [],
   "source": [
    "# extracts title,company, and job description from each link\n",
    "jobs = []\n",
    "companies = []\n",
    "texts = []\n",
    "for i in links:\n",
    "    try:\n",
    "#         grab page html\n",
    "        page = requests.get(i)\n",
    "        soup = BeautifulSoup(page.content, 'html.parser')\n",
    "\n",
    "#         categories\n",
    "        job = soup.find(class_=\"job_title\").get_text().strip()\n",
    "        company = soup.find(class_=\"hiring_company_text t_company_name\").get_text().strip()\n",
    "        text = soup.find(class_=\"jobDescriptionSection\").get_text().strip()\n",
    "\n",
    "#         appends\n",
    "        jobs.append(job)\n",
    "        companies.append(company)\n",
    "        texts.append(text)\n",
    "    except:\n",
    "        jobs.append(\"None\")\n",
    "        companies.append(\"None\")\n",
    "        texts.append(\"None\")\n",
    "        pass"
   ]
  },
  {
   "cell_type": "code",
   "execution_count": null,
   "metadata": {
    "collapsed": false,
    "deletable": true,
    "editable": true,
    "scrolled": true
   },
   "outputs": [],
   "source": [
    "len(jobs)"
   ]
  },
  {
   "cell_type": "code",
   "execution_count": null,
   "metadata": {
    "collapsed": false,
    "deletable": true,
    "editable": true
   },
   "outputs": [],
   "source": [
    "# creating dataframe\n",
    "df_zip = pd.DataFrame({\"job\":jobs,\"company\":companies,\"links\":links,\"text\": texts})"
   ]
  },
  {
   "cell_type": "code",
   "execution_count": null,
   "metadata": {
    "collapsed": true,
    "deletable": true,
    "editable": true
   },
   "outputs": [],
   "source": [
    "from sklearn.feature_extraction.text import TfidfVectorizer"
   ]
  },
  {
   "cell_type": "code",
   "execution_count": null,
   "metadata": {
    "collapsed": true,
    "deletable": true,
    "editable": true
   },
   "outputs": [],
   "source": [
    "documents = df_zip.text.tolist()"
   ]
  },
  {
   "cell_type": "code",
   "execution_count": null,
   "metadata": {
    "collapsed": false,
    "deletable": true,
    "editable": true
   },
   "outputs": [],
   "source": [
    "# open up resume \n",
    "f = open(\"/Users/patrick.chen/Desktop/untitled folder/resume.txt\",\"r\")\n",
    "string = f.read()\n",
    "resume = string.encode('ascii', errors='ignore').decode(\"utf-8\").strip(\"\\n\")\n",
    "documents.append(resume)"
   ]
  },
  {
   "cell_type": "code",
   "execution_count": null,
   "metadata": {
    "collapsed": true,
    "deletable": true,
    "editable": true
   },
   "outputs": [],
   "source": [
    "# tf-idf\n",
    "tfidf = TfidfVectorizer(stop_words='english').fit_transform(documents)\n",
    "pairwise_similarity = tfidf * tfidf.T"
   ]
  },
  {
   "cell_type": "code",
   "execution_count": null,
   "metadata": {
    "collapsed": false,
    "deletable": true,
    "editable": true,
    "scrolled": true
   },
   "outputs": [],
   "source": [
    "df = pd.DataFrame(pairwise_similarity.A)"
   ]
  },
  {
   "cell_type": "code",
   "execution_count": null,
   "metadata": {
    "collapsed": true,
    "deletable": true,
    "editable": true
   },
   "outputs": [],
   "source": [
    "import matplotlib.pyplot as plt\n",
    "import seaborn as sns\n",
    "%matplotlib inline"
   ]
  },
  {
   "cell_type": "code",
   "execution_count": null,
   "metadata": {
    "collapsed": true,
    "deletable": true,
    "editable": true
   },
   "outputs": [],
   "source": []
  },
  {
   "cell_type": "code",
   "execution_count": null,
   "metadata": {
    "collapsed": true,
    "deletable": true,
    "editable": true
   },
   "outputs": [],
   "source": [
    "sns.set_style(\"whitegrid\")"
   ]
  },
  {
   "cell_type": "code",
   "execution_count": null,
   "metadata": {
    "collapsed": true,
    "deletable": true,
    "editable": true
   },
   "outputs": [],
   "source": [
    "df2 = df.iloc[1:]"
   ]
  },
  {
   "cell_type": "code",
   "execution_count": null,
   "metadata": {
    "collapsed": false,
    "deletable": true,
    "editable": true
   },
   "outputs": [],
   "source": [
    "g = sns.barplot(x = df2.index, y = df2[0].values)"
   ]
  },
  {
   "cell_type": "code",
   "execution_count": null,
   "metadata": {
    "collapsed": false,
    "deletable": true,
    "editable": true
   },
   "outputs": [],
   "source": [
    "df[df[0]>.2]"
   ]
  },
  {
   "cell_type": "code",
   "execution_count": 1,
   "metadata": {
    "collapsed": false,
    "deletable": true,
    "editable": true,
    "scrolled": true
   },
   "outputs": [
    {
     "ename": "NameError",
     "evalue": "name 'documents' is not defined",
     "output_type": "error",
     "traceback": [
      "\u001b[0;31m---------------------------------------------------------------------------\u001b[0m",
      "\u001b[0;31mNameError\u001b[0m                                 Traceback (most recent call last)",
      "\u001b[0;32m<ipython-input-1-9f8cc259503a>\u001b[0m in \u001b[0;36m<module>\u001b[0;34m()\u001b[0m\n\u001b[0;32m----> 1\u001b[0;31m \u001b[0mdocuments\u001b[0m\u001b[0;34m[\u001b[0m\u001b[0;36m0\u001b[0m\u001b[0;34m]\u001b[0m\u001b[0;34m\u001b[0m\u001b[0m\n\u001b[0m",
      "\u001b[0;31mNameError\u001b[0m: name 'documents' is not defined"
     ]
    }
   ],
   "source": [
    "documents[0]"
   ]
  },
  {
   "cell_type": "code",
   "execution_count": null,
   "metadata": {
    "collapsed": true,
    "deletable": true,
    "editable": true
   },
   "outputs": [],
   "source": []
  },
  {
   "cell_type": "code",
   "execution_count": null,
   "metadata": {
    "collapsed": true,
    "deletable": true,
    "editable": true
   },
   "outputs": [],
   "source": []
  },
  {
   "cell_type": "code",
   "execution_count": null,
   "metadata": {
    "collapsed": true,
    "deletable": true,
    "editable": true
   },
   "outputs": [],
   "source": []
  },
  {
   "cell_type": "code",
   "execution_count": null,
   "metadata": {
    "collapsed": true,
    "deletable": true,
    "editable": true
   },
   "outputs": [],
   "source": []
  },
  {
   "cell_type": "code",
   "execution_count": null,
   "metadata": {
    "collapsed": true,
    "deletable": true,
    "editable": true
   },
   "outputs": [],
   "source": []
  },
  {
   "cell_type": "markdown",
   "metadata": {
    "deletable": true,
    "editable": true
   },
   "source": [
    "# Ziprecruiter Site"
   ]
  },
  {
   "cell_type": "code",
   "execution_count": null,
   "metadata": {
    "collapsed": true,
    "deletable": true,
    "editable": true
   },
   "outputs": [],
   "source": [
    "page = requests.get(\"https://www.ziprecruiter.com/candidate/search?search=data+analyst&location=los+angeles+ca\")\n",
    "soup = BeautifulSoup(page.content, 'html.parser')\n",
    "link = soup.find_all(class_=\"job_snippet\")\n",
    "\n",
    "links = []\n",
    "for i in range(len(link)):\n",
    "    links.append(link[i].find('a')['href'])"
   ]
  },
  {
   "cell_type": "code",
   "execution_count": null,
   "metadata": {
    "collapsed": true,
    "deletable": true,
    "editable": true
   },
   "outputs": [],
   "source": []
  },
  {
   "cell_type": "code",
   "execution_count": null,
   "metadata": {
    "collapsed": true,
    "deletable": true,
    "editable": true
   },
   "outputs": [],
   "source": []
  },
  {
   "cell_type": "code",
   "execution_count": null,
   "metadata": {
    "collapsed": true,
    "deletable": true,
    "editable": true
   },
   "outputs": [],
   "source": []
  },
  {
   "cell_type": "code",
   "execution_count": 3,
   "metadata": {
    "collapsed": true,
    "deletable": true,
    "editable": true
   },
   "outputs": [],
   "source": [
    "# ziprecruiter\n",
    "# class: just_job_title  (job_title)\n",
    "# class: t_org_link name (company_name)"
   ]
  },
  {
   "cell_type": "code",
   "execution_count": 4,
   "metadata": {
    "collapsed": false,
    "deletable": true,
    "editable": true
   },
   "outputs": [],
   "source": [
    "# create list of links\n",
    "links = []\n",
    "links.append(\"https://www.ziprecruiter.com/candidate/search?search=data+analyst&location=los+angeles+ca\")\n",
    "\n",
    "for i in range(9):\n",
    "    link = \"https://www.ziprecruiter.com/candidate/search?page=\"+str(i+2)+\"&location=los+angeles+ca&search=data+analyst\"\n",
    "    links.append(link)"
   ]
  },
  {
   "cell_type": "code",
   "execution_count": 82,
   "metadata": {
    "collapsed": false,
    "deletable": true,
    "editable": true
   },
   "outputs": [],
   "source": [
    "# reset job, company list\n",
    "job=[]\n",
    "company = []\n",
    "\n",
    "# fill in job and company lists\n",
    "jobs = []\n",
    "companies = []\n",
    "\n",
    "for link in links:\n",
    "    page = requests.get(link)\n",
    "    \n",
    "    soup = BeautifulSoup(page.content, 'html.parser')\n",
    "    \n",
    "    job = soup.find_all(class_=\"just_job_title\")\n",
    "    for i in job:\n",
    "        jobs.append(i.get_text())\n",
    "        \n",
    "    company = soup.find_all(class_=\"t_org_link name\")\n",
    "    for i in company:\n",
    "        companies.append(i.get_text())\n",
    "        \n",
    "# creating dataframe\n",
    "df_zip = pd.DataFrame({\"job\": jobs, \"company\": companies})"
   ]
  },
  {
   "cell_type": "code",
   "execution_count": 85,
   "metadata": {
    "collapsed": false,
    "deletable": true,
    "editable": true,
    "scrolled": false
   },
   "outputs": [
    {
     "data": {
      "text/html": [
       "<div>\n",
       "<style scoped>\n",
       "    .dataframe tbody tr th:only-of-type {\n",
       "        vertical-align: middle;\n",
       "    }\n",
       "\n",
       "    .dataframe tbody tr th {\n",
       "        vertical-align: top;\n",
       "    }\n",
       "\n",
       "    .dataframe thead th {\n",
       "        text-align: right;\n",
       "    }\n",
       "</style>\n",
       "<table border=\"1\" class=\"dataframe\">\n",
       "  <thead>\n",
       "    <tr style=\"text-align: right;\">\n",
       "      <th></th>\n",
       "      <th>company</th>\n",
       "      <th>job</th>\n",
       "    </tr>\n",
       "  </thead>\n",
       "  <tbody>\n",
       "    <tr>\n",
       "      <th>0</th>\n",
       "      <td>Dignity Health</td>\n",
       "      <td>Data Analyst</td>\n",
       "    </tr>\n",
       "    <tr>\n",
       "      <th>1</th>\n",
       "      <td>Live Nation Entertainment</td>\n",
       "      <td>Jr. IT Data Analyst (Contractor)</td>\n",
       "    </tr>\n",
       "    <tr>\n",
       "      <th>2</th>\n",
       "      <td>Forbes Capital Solutions</td>\n",
       "      <td>Data Analyst (Experienced)</td>\n",
       "    </tr>\n",
       "    <tr>\n",
       "      <th>3</th>\n",
       "      <td>Common Securitization Solutions</td>\n",
       "      <td>Data Analyst</td>\n",
       "    </tr>\n",
       "    <tr>\n",
       "      <th>4</th>\n",
       "      <td>Transdev</td>\n",
       "      <td>Data Analyst</td>\n",
       "    </tr>\n",
       "    <tr>\n",
       "      <th>5</th>\n",
       "      <td>9Dot HR</td>\n",
       "      <td>Data Analyst II</td>\n",
       "    </tr>\n",
       "    <tr>\n",
       "      <th>6</th>\n",
       "      <td>Bird Rides Inc.</td>\n",
       "      <td>Data Analyst</td>\n",
       "    </tr>\n",
       "    <tr>\n",
       "      <th>7</th>\n",
       "      <td>Dignity Health</td>\n",
       "      <td>Data Analyst</td>\n",
       "    </tr>\n",
       "    <tr>\n",
       "      <th>8</th>\n",
       "      <td>ECA Staffing Solutions Inc</td>\n",
       "      <td>Data Analyst - 850</td>\n",
       "    </tr>\n",
       "    <tr>\n",
       "      <th>9</th>\n",
       "      <td>Login Consulting Services Inc.</td>\n",
       "      <td>Business Intelligence Data Analyst</td>\n",
       "    </tr>\n",
       "    <tr>\n",
       "      <th>10</th>\n",
       "      <td>Cybercoders</td>\n",
       "      <td>Data Analyst</td>\n",
       "    </tr>\n",
       "    <tr>\n",
       "      <th>11</th>\n",
       "      <td>SkillsetGroup - Manufacturing, Engineering, &amp; ...</td>\n",
       "      <td>eCommerce Data Analyst</td>\n",
       "    </tr>\n",
       "    <tr>\n",
       "      <th>12</th>\n",
       "      <td>Voca</td>\n",
       "      <td>Data Analyst</td>\n",
       "    </tr>\n",
       "    <tr>\n",
       "      <th>13</th>\n",
       "      <td>Sprint Store by ArchTelecom</td>\n",
       "      <td>Data Analyst</td>\n",
       "    </tr>\n",
       "    <tr>\n",
       "      <th>14</th>\n",
       "      <td>AIDS Healthcare Foundation</td>\n",
       "      <td>Data Analyst- Application</td>\n",
       "    </tr>\n",
       "    <tr>\n",
       "      <th>15</th>\n",
       "      <td>GPS Staffing</td>\n",
       "      <td>Data/ Business Analyst- Healthcare</td>\n",
       "    </tr>\n",
       "    <tr>\n",
       "      <th>16</th>\n",
       "      <td>Global Iis / Dp&amp;c-2Intermediate</td>\n",
       "      <td>IIS - Senior Data Analyst</td>\n",
       "    </tr>\n",
       "    <tr>\n",
       "      <th>17</th>\n",
       "      <td>KORE1 Technologies</td>\n",
       "      <td>Senior Data and Reporting Financial Systems An...</td>\n",
       "    </tr>\n",
       "    <tr>\n",
       "      <th>18</th>\n",
       "      <td>PatientPop</td>\n",
       "      <td>Senior Data Analyst (analytics, BI, big data)</td>\n",
       "    </tr>\n",
       "    <tr>\n",
       "      <th>19</th>\n",
       "      <td>Launch Infotech</td>\n",
       "      <td>Business Analyst - Enterprise Data Warehouse &amp;...</td>\n",
       "    </tr>\n",
       "    <tr>\n",
       "      <th>20</th>\n",
       "      <td>Irvine Technology Corporation</td>\n",
       "      <td>Healthcare Reporting and Data Quality Analyst</td>\n",
       "    </tr>\n",
       "    <tr>\n",
       "      <th>21</th>\n",
       "      <td>Golden Hippo Media</td>\n",
       "      <td>Data Analyst</td>\n",
       "    </tr>\n",
       "    <tr>\n",
       "      <th>22</th>\n",
       "      <td>Allscripts</td>\n",
       "      <td>MS Expert Data Analytics Scientist - Business ...</td>\n",
       "    </tr>\n",
       "    <tr>\n",
       "      <th>23</th>\n",
       "      <td>PlayStation Network</td>\n",
       "      <td>Data Analyst (Contract)</td>\n",
       "    </tr>\n",
       "    <tr>\n",
       "      <th>24</th>\n",
       "      <td>UCLA Health and David Geffen School of Medicine</td>\n",
       "      <td>Principal Data Analyst - Los Angeles</td>\n",
       "    </tr>\n",
       "    <tr>\n",
       "      <th>25</th>\n",
       "      <td>MarketShare</td>\n",
       "      <td>Data Analyst</td>\n",
       "    </tr>\n",
       "    <tr>\n",
       "      <th>26</th>\n",
       "      <td>Prosum</td>\n",
       "      <td>Reporting &amp; Data Quality Analyst</td>\n",
       "    </tr>\n",
       "    <tr>\n",
       "      <th>27</th>\n",
       "      <td>KORE1 Technologies</td>\n",
       "      <td>Data Analyst</td>\n",
       "    </tr>\n",
       "    <tr>\n",
       "      <th>28</th>\n",
       "      <td>Booz Allen</td>\n",
       "      <td>Data Analyst, Junior</td>\n",
       "    </tr>\n",
       "    <tr>\n",
       "      <th>29</th>\n",
       "      <td>NuORDER</td>\n",
       "      <td>Data Analyst - Client Onboarding</td>\n",
       "    </tr>\n",
       "    <tr>\n",
       "      <th>...</th>\n",
       "      <td>...</td>\n",
       "      <td>...</td>\n",
       "    </tr>\n",
       "    <tr>\n",
       "      <th>169</th>\n",
       "      <td>Soylent</td>\n",
       "      <td>Data Analyst</td>\n",
       "    </tr>\n",
       "    <tr>\n",
       "      <th>170</th>\n",
       "      <td>EPAM Systems Inc</td>\n",
       "      <td>Business Analyst</td>\n",
       "    </tr>\n",
       "    <tr>\n",
       "      <th>171</th>\n",
       "      <td>Ronin Staffing, LLC</td>\n",
       "      <td>Programmer Analyst</td>\n",
       "    </tr>\n",
       "    <tr>\n",
       "      <th>172</th>\n",
       "      <td>Molina Healthcare</td>\n",
       "      <td>Director, Data Analytics</td>\n",
       "    </tr>\n",
       "    <tr>\n",
       "      <th>173</th>\n",
       "      <td>Jam City</td>\n",
       "      <td>Marketing Data Analyst</td>\n",
       "    </tr>\n",
       "    <tr>\n",
       "      <th>174</th>\n",
       "      <td>LIVE NATION, INC</td>\n",
       "      <td>Data Analyst</td>\n",
       "    </tr>\n",
       "    <tr>\n",
       "      <th>175</th>\n",
       "      <td>Union Bank, N.A.</td>\n",
       "      <td>Business Data Analyst - Banking/Real Estate</td>\n",
       "    </tr>\n",
       "    <tr>\n",
       "      <th>176</th>\n",
       "      <td>Cedars-Sinai</td>\n",
       "      <td>Sr. Data Analytics Specialist</td>\n",
       "    </tr>\n",
       "    <tr>\n",
       "      <th>177</th>\n",
       "      <td>Care1st</td>\n",
       "      <td>Sr Business Systems Analyst</td>\n",
       "    </tr>\n",
       "    <tr>\n",
       "      <th>178</th>\n",
       "      <td>Teradata</td>\n",
       "      <td>Sr. Business Consultant, CPG/Retail - Think Bi...</td>\n",
       "    </tr>\n",
       "    <tr>\n",
       "      <th>179</th>\n",
       "      <td>New Leaf Consulting</td>\n",
       "      <td>Data Quality/Governance Analysts</td>\n",
       "    </tr>\n",
       "    <tr>\n",
       "      <th>180</th>\n",
       "      <td>Groundwork Coffee Co</td>\n",
       "      <td>Business Analyst</td>\n",
       "    </tr>\n",
       "    <tr>\n",
       "      <th>181</th>\n",
       "      <td>ModCloth</td>\n",
       "      <td>Senior Merchandise Data &amp; Reporting Analyst</td>\n",
       "    </tr>\n",
       "    <tr>\n",
       "      <th>182</th>\n",
       "      <td>Blue Shield of California</td>\n",
       "      <td>Business Analyst, Consultant/Lead</td>\n",
       "    </tr>\n",
       "    <tr>\n",
       "      <th>183</th>\n",
       "      <td>Social Gaming Network</td>\n",
       "      <td>Marketing Data Analyst</td>\n",
       "    </tr>\n",
       "    <tr>\n",
       "      <th>184</th>\n",
       "      <td>Inter Con Security Systems, Inc.</td>\n",
       "      <td>BUSINESS ANALYST</td>\n",
       "    </tr>\n",
       "    <tr>\n",
       "      <th>185</th>\n",
       "      <td>Activision Publishing, Inc.</td>\n",
       "      <td>Lead Analyst (SQL)</td>\n",
       "    </tr>\n",
       "    <tr>\n",
       "      <th>186</th>\n",
       "      <td>Centene Corporation</td>\n",
       "      <td>Data Analyst III</td>\n",
       "    </tr>\n",
       "    <tr>\n",
       "      <th>187</th>\n",
       "      <td>Vichara</td>\n",
       "      <td>Business Analyst - Hedge Fund</td>\n",
       "    </tr>\n",
       "    <tr>\n",
       "      <th>188</th>\n",
       "      <td>TechLink Resources</td>\n",
       "      <td>Data Warehouse Analyst</td>\n",
       "    </tr>\n",
       "    <tr>\n",
       "      <th>189</th>\n",
       "      <td>Cetera Financial Group</td>\n",
       "      <td>Business Analyst</td>\n",
       "    </tr>\n",
       "    <tr>\n",
       "      <th>190</th>\n",
       "      <td>Software Resources, Inc.</td>\n",
       "      <td>Senior Business Analyst</td>\n",
       "    </tr>\n",
       "    <tr>\n",
       "      <th>191</th>\n",
       "      <td>CSM Bakery Solutions</td>\n",
       "      <td>Business Analyst</td>\n",
       "    </tr>\n",
       "    <tr>\n",
       "      <th>192</th>\n",
       "      <td>Mercury Insurance Group</td>\n",
       "      <td>Data Analyst - Product (Dept.#A0073)</td>\n",
       "    </tr>\n",
       "    <tr>\n",
       "      <th>193</th>\n",
       "      <td>Nordstrom</td>\n",
       "      <td>Advanced Analytics Intern</td>\n",
       "    </tr>\n",
       "    <tr>\n",
       "      <th>194</th>\n",
       "      <td>UMPG</td>\n",
       "      <td>Senior Analyst / Analyst (Depending on experie...</td>\n",
       "    </tr>\n",
       "    <tr>\n",
       "      <th>195</th>\n",
       "      <td>Living Spaces Furniture</td>\n",
       "      <td>Data Analyst</td>\n",
       "    </tr>\n",
       "    <tr>\n",
       "      <th>196</th>\n",
       "      <td>Cognitive Ed LLC</td>\n",
       "      <td>Business Analyst Television Distribution</td>\n",
       "    </tr>\n",
       "    <tr>\n",
       "      <th>197</th>\n",
       "      <td>Equis Staffing</td>\n",
       "      <td>Business Analyst</td>\n",
       "    </tr>\n",
       "    <tr>\n",
       "      <th>198</th>\n",
       "      <td>Iconma, L.L.C.</td>\n",
       "      <td>Business Analyst</td>\n",
       "    </tr>\n",
       "  </tbody>\n",
       "</table>\n",
       "<p>199 rows × 2 columns</p>\n",
       "</div>"
      ],
      "text/plain": [
       "                                               company  \\\n",
       "0                                       Dignity Health   \n",
       "1                            Live Nation Entertainment   \n",
       "2                             Forbes Capital Solutions   \n",
       "3                      Common Securitization Solutions   \n",
       "4                                             Transdev   \n",
       "5                                              9Dot HR   \n",
       "6                                      Bird Rides Inc.   \n",
       "7                                       Dignity Health   \n",
       "8                           ECA Staffing Solutions Inc   \n",
       "9                       Login Consulting Services Inc.   \n",
       "10                                         Cybercoders   \n",
       "11   SkillsetGroup - Manufacturing, Engineering, & ...   \n",
       "12                                                Voca   \n",
       "13                         Sprint Store by ArchTelecom   \n",
       "14                          AIDS Healthcare Foundation   \n",
       "15                                        GPS Staffing   \n",
       "16                     Global Iis / Dp&c-2Intermediate   \n",
       "17                                  KORE1 Technologies   \n",
       "18                                          PatientPop   \n",
       "19                                     Launch Infotech   \n",
       "20                       Irvine Technology Corporation   \n",
       "21                                  Golden Hippo Media   \n",
       "22                                          Allscripts   \n",
       "23                                 PlayStation Network   \n",
       "24     UCLA Health and David Geffen School of Medicine   \n",
       "25                                         MarketShare   \n",
       "26                                              Prosum   \n",
       "27                                  KORE1 Technologies   \n",
       "28                                          Booz Allen   \n",
       "29                                             NuORDER   \n",
       "..                                                 ...   \n",
       "169                                            Soylent   \n",
       "170                                   EPAM Systems Inc   \n",
       "171                                Ronin Staffing, LLC   \n",
       "172                                  Molina Healthcare   \n",
       "173                                           Jam City   \n",
       "174                                   LIVE NATION, INC   \n",
       "175                                   Union Bank, N.A.   \n",
       "176                                       Cedars-Sinai   \n",
       "177                                            Care1st   \n",
       "178                                           Teradata   \n",
       "179                                New Leaf Consulting   \n",
       "180                               Groundwork Coffee Co   \n",
       "181                                           ModCloth   \n",
       "182                          Blue Shield of California   \n",
       "183                              Social Gaming Network   \n",
       "184                   Inter Con Security Systems, Inc.   \n",
       "185                        Activision Publishing, Inc.   \n",
       "186                                Centene Corporation   \n",
       "187                                            Vichara   \n",
       "188                                 TechLink Resources   \n",
       "189                             Cetera Financial Group   \n",
       "190                           Software Resources, Inc.   \n",
       "191                               CSM Bakery Solutions   \n",
       "192                            Mercury Insurance Group   \n",
       "193                                          Nordstrom   \n",
       "194                                               UMPG   \n",
       "195                            Living Spaces Furniture   \n",
       "196                                   Cognitive Ed LLC   \n",
       "197                                     Equis Staffing   \n",
       "198                                     Iconma, L.L.C.   \n",
       "\n",
       "                                                   job  \n",
       "0                                         Data Analyst  \n",
       "1                     Jr. IT Data Analyst (Contractor)  \n",
       "2                           Data Analyst (Experienced)  \n",
       "3                                         Data Analyst  \n",
       "4                                         Data Analyst  \n",
       "5                                      Data Analyst II  \n",
       "6                                         Data Analyst  \n",
       "7                                         Data Analyst  \n",
       "8                                   Data Analyst - 850  \n",
       "9                   Business Intelligence Data Analyst  \n",
       "10                                        Data Analyst  \n",
       "11                              eCommerce Data Analyst  \n",
       "12                                        Data Analyst  \n",
       "13                                        Data Analyst  \n",
       "14                           Data Analyst- Application  \n",
       "15                  Data/ Business Analyst- Healthcare  \n",
       "16                           IIS - Senior Data Analyst  \n",
       "17   Senior Data and Reporting Financial Systems An...  \n",
       "18       Senior Data Analyst (analytics, BI, big data)  \n",
       "19   Business Analyst - Enterprise Data Warehouse &...  \n",
       "20       Healthcare Reporting and Data Quality Analyst  \n",
       "21                                        Data Analyst  \n",
       "22   MS Expert Data Analytics Scientist - Business ...  \n",
       "23                             Data Analyst (Contract)  \n",
       "24                Principal Data Analyst - Los Angeles  \n",
       "25                                        Data Analyst  \n",
       "26                    Reporting & Data Quality Analyst  \n",
       "27                                        Data Analyst  \n",
       "28                                Data Analyst, Junior  \n",
       "29                    Data Analyst - Client Onboarding  \n",
       "..                                                 ...  \n",
       "169                                       Data Analyst  \n",
       "170                                   Business Analyst  \n",
       "171                                 Programmer Analyst  \n",
       "172                           Director, Data Analytics  \n",
       "173                             Marketing Data Analyst  \n",
       "174                                       Data Analyst  \n",
       "175        Business Data Analyst - Banking/Real Estate  \n",
       "176                      Sr. Data Analytics Specialist  \n",
       "177                        Sr Business Systems Analyst  \n",
       "178  Sr. Business Consultant, CPG/Retail - Think Bi...  \n",
       "179                   Data Quality/Governance Analysts  \n",
       "180                                   Business Analyst  \n",
       "181        Senior Merchandise Data & Reporting Analyst  \n",
       "182                  Business Analyst, Consultant/Lead  \n",
       "183                             Marketing Data Analyst  \n",
       "184                                   BUSINESS ANALYST  \n",
       "185                                 Lead Analyst (SQL)  \n",
       "186                                   Data Analyst III  \n",
       "187                      Business Analyst - Hedge Fund  \n",
       "188                             Data Warehouse Analyst  \n",
       "189                                   Business Analyst  \n",
       "190                            Senior Business Analyst  \n",
       "191                                   Business Analyst  \n",
       "192               Data Analyst - Product (Dept.#A0073)  \n",
       "193                          Advanced Analytics Intern  \n",
       "194  Senior Analyst / Analyst (Depending on experie...  \n",
       "195                                       Data Analyst  \n",
       "196           Business Analyst Television Distribution  \n",
       "197                                   Business Analyst  \n",
       "198                                   Business Analyst  \n",
       "\n",
       "[199 rows x 2 columns]"
      ]
     },
     "execution_count": 85,
     "metadata": {},
     "output_type": "execute_result"
    }
   ],
   "source": [
    "df_zip"
   ]
  }
 ],
 "metadata": {
  "kernelspec": {
   "display_name": "Python 3",
   "language": "python",
   "name": "python3"
  },
  "language_info": {
   "codemirror_mode": {
    "name": "ipython",
    "version": 3
   },
   "file_extension": ".py",
   "mimetype": "text/x-python",
   "name": "python",
   "nbconvert_exporter": "python",
   "pygments_lexer": "ipython3",
   "version": "3.6.0"
  }
 },
 "nbformat": 4,
 "nbformat_minor": 2
}
