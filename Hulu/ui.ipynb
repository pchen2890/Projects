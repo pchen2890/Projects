{
 "cells": [
  {
   "cell_type": "code",
   "execution_count": 204,
   "metadata": {
    "collapsed": true,
    "deletable": true,
    "editable": true
   },
   "outputs": [],
   "source": [
    "library(shiny)\n",
    "library(ggplot2)"
   ]
  },
  {
   "cell_type": "code",
   "execution_count": 205,
   "metadata": {
    "collapsed": true,
    "deletable": true,
    "editable": true
   },
   "outputs": [],
   "source": [
    "data  <-read.csv(\"hulu_clean.csv\")"
   ]
  },
  {
   "cell_type": "code",
   "execution_count": 207,
   "metadata": {
    "collapsed": false,
    "deletable": true,
    "editable": true
   },
   "outputs": [],
   "source": [
    "min_clip <- min(data$show_clips_count)\n",
    "max_clip <- max(data$show_clips_count)\n",
    "min_ep <- min(data$show_episodes_count)\n",
    "max_ep <- max(data$show_episodes_count)\n",
    "min_season <- min(data$show_seasons_count)\n",
    "max_season <- max(data$show_seasons_count)\n",
    "min_video <- min(data$show_videos_count)\n",
    "max_video <- max(data$show_videos_count)"
   ]
  },
  {
   "cell_type": "code",
   "execution_count": 221,
   "metadata": {
    "collapsed": true,
    "deletable": true,
    "editable": true
   },
   "outputs": [],
   "source": [
    "fluidPage(headerPanel(\"Hulu Data\"),    \n",
    "    fluidRow(column(6,sliderInput(inputId = \"range_clip\",label =\"Show Clip Count\",\n",
    "                    min=min_clip,max=max_clip,value=c(min_clip,max_clip),step = 1,width = '600px')),\n",
    "             column(6,sliderInput(inputId = \"range_ep\",label =\"Show Episode Count\",\n",
    "                    min=min_ep,max=max_ep,value=c(min_ep,max_ep),step = 1,width = '600px')),\n",
    "             column(6,sliderInput(inputId = \"range_season\",label =\"Show Season Count\",\n",
    "                    min=min_season,max=max_season,value=c(min_season,max_season),step = 1,width = '600px')),\n",
    "             column(6,sliderInput(inputId = \"range_video\",label =\"Show Video Count\",\n",
    "                    min=min_video,max=max_video,value=c(min_video,max_video),step = 1,width = '600px'))\n",
    "                 ),\n",
    "    fluidRow(\n",
    "        tabsetPanel(\n",
    "        tabPanel(\"By Genre\",\n",
    "                 navlistPanel(\n",
    "                    tabPanel(\"Avg Ratings\",plotOutput(outputId='hist_genre')),\n",
    "                    tabPanel(\"N of Shows\",plotOutput(outputId = 'n_genre')),\n",
    "                    tabPanel(\"Data Table\",DT::dataTableOutput(\"table_genre\"))\n",
    "                 )),\n",
    "        tabPanel(\"By Media Company\",\n",
    "                 navlistPanel(\n",
    "                    tabPanel(\"Avg Ratings\",plotOutput(outputId='hist_comp')),\n",
    "                    tabPanel(\"N of Shows\",plotOutput(outputId = 'n_comp')),\n",
    "                    tabPanel(\"Data Table\",DT::dataTableOutput(\"table_comp\"))\n",
    "                 )),\n",
    "        tabPanel(\"Histograms for Filters\",\n",
    "                navlistPanel(\n",
    "                    tabPanel(\"Show Clip Count\",plotOutput(outputId = \"histo_1\")),\n",
    "                    tabPanel(\"Show Episode Count\",plotOutput(outputId = \"histo_2\")),\n",
    "                    tabPanel(\"Show Season Count\",plotOutput(outputId = \"histo_3\")),\n",
    "                    tabPanel(\"Show Video Count\",plotOutput(outputId = \"histo_4\"))\n",
    "                ))\n",
    "        )\n",
    "        )\n",
    "    )"
   ]
  }
 ],
 "metadata": {
  "kernelspec": {
   "display_name": "R",
   "language": "R",
   "name": "ir"
  },
  "language_info": {
   "codemirror_mode": "r",
   "file_extension": ".r",
   "mimetype": "text/x-r-source",
   "name": "R",
   "pygments_lexer": "r",
   "version": "3.3.2"
  }
 },
 "nbformat": 4,
 "nbformat_minor": 2
}
