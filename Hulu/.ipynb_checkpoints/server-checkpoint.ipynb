{
 "cells": [
  {
   "cell_type": "code",
   "execution_count": 204,
   "metadata": {
    "collapsed": true,
    "deletable": true,
    "editable": true
   },
   "outputs": [],
   "source": [
    "library(shiny)\n",
    "library(ggplot2)"
   ]
  },
  {
   "cell_type": "code",
   "execution_count": 222,
   "metadata": {
    "collapsed": false,
    "deletable": true,
    "editable": true
   },
   "outputs": [],
   "source": [
    "function(input,output) {\n",
    "    data2 <- reactive({\n",
    "        a <- subset(data, (show_clips_count>=input$range_clip[1]&\n",
    "                           show_clips_count<=input$range_clip[2]&\n",
    "                           show_episodes_count>=input$range_ep[1]&\n",
    "                           show_episodes_count<=input$range_ep[2]&\n",
    "                           show_seasons_count>=input$range_season[1]&\n",
    "                           show_seasons_count<=input$range_season[2]&\n",
    "                           show_videos_count>=input$range_video[1]&\n",
    "                           show_videos_count<=input$range_video[2]\n",
    "                          ))\n",
    "        return(a)})\n",
    "#   vis for comp\n",
    "    output$hist_comp <- renderPlot({\n",
    "        ggplot(data2(), aes(x=show_company_name, y=show_rating,fill=show_company_name))+\n",
    "        stat_summary(fun.y=\"mean\", geom=\"bar\") +\n",
    "        theme(axis.text.x = element_text(angle = 90, hjust = 1))\n",
    "    })\n",
    "    \n",
    "    output$n_comp <- renderPlot({\n",
    "        ggplot(data2(),aes(x=show_company_name)) + \n",
    "        geom_bar(aes(fill=show_company_name)) + \n",
    "        theme(axis.text.x = element_text(angle = 90, hjust = 1))\n",
    "    })\n",
    "    \n",
    "    output$table_comp <- DT::renderDataTable(DT::datatable(data2()))\n",
    "\n",
    "#   viz for genre\n",
    "    output$hist_genre <- renderPlot({\n",
    "        ggplot(data2(), aes(x=main_genre, y=show_rating,fill=main_genre))+\n",
    "        stat_summary(fun.y=\"mean\", geom=\"bar\") +\n",
    "        theme(axis.text.x = element_text(angle = 90, hjust = 1))\n",
    "    })\n",
    "    \n",
    "    output$n_genre <- renderPlot({\n",
    "        ggplot(data2(),aes(x=main_genre)) + \n",
    "        geom_bar(aes(fill=main_genre)) + \n",
    "        theme(axis.text.x = element_text(angle = 90, hjust = 1))\n",
    "    })\n",
    "    \n",
    "    output$table_genre <- DT::renderDataTable(DT::datatable(data2()))\n",
    "    \n",
    "#     histograms\n",
    "    output$histo_1 <- renderPlot({\n",
    "        ggplot(data2(),aes(x = show_clips_count))+\n",
    "        geom_histogram()+\n",
    "        geom_density(col=2) + \n",
    "        labs(x=\"Show Clip Count\", y=\"# of shows\")\n",
    "    })\n",
    "    \n",
    "    output$histo_2 <- renderPlot({\n",
    "        ggplot(data2(),aes(show_episodes_count))+\n",
    "        geom_histogram() + \n",
    "        geom_density(col=2) + \n",
    "        labs(x=\"Show Episdoe Count\", y=\"# of shows\")\n",
    "    })\n",
    "    \n",
    "    output$histo_3 <- renderPlot({\n",
    "        ggplot(data2(),aes(show_seasons_count))+\n",
    "        geom_histogram() + \n",
    "        geom_density(col=2) + \n",
    "        labs(x=\"Show Season Count\", y=\"# of shows\")\n",
    "    })\n",
    "    \n",
    "    output$histo_4 <- renderPlot({\n",
    "        ggplot(data2(),aes(show_videos_count))+\n",
    "        geom_histogram() + \n",
    "        geom_density(col=2) + \n",
    "        labs(x=\"Show Video Count\", y=\"# of shows\")\n",
    "    })\n",
    "\n",
    "    }"
   ]
  }
 ],
 "metadata": {
  "kernelspec": {
   "display_name": "R",
   "language": "R",
   "name": "ir"
  },
  "language_info": {
   "codemirror_mode": "r",
   "file_extension": ".r",
   "mimetype": "text/x-r-source",
   "name": "R",
   "pygments_lexer": "r",
   "version": "3.3.2"
  }
 },
 "nbformat": 4,
 "nbformat_minor": 2
}
